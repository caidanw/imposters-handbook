{
 "cells": [
  {
   "cell_type": "markdown",
   "id": "a0ddd3a0-20e4-4cc9-8d23-4e578d43ac70",
   "metadata": {},
   "source": [
    "## Church Encoding\n",
    "---"
   ]
  },
  {
   "cell_type": "markdown",
   "id": "c9153408-962a-49bc-943a-a9a8d6defcf4",
   "metadata": {},
   "source": [
    "### Booleans"
   ]
  },
  {
   "cell_type": "code",
   "execution_count": 1,
   "id": "b1b9552d-0c00-41f5-8195-2764a72abec8",
   "metadata": {},
   "outputs": [],
   "source": [
    "const True = (x => y => x)\n",
    "const False = (x => y => y)"
   ]
  },
  {
   "cell_type": "code",
   "execution_count": 2,
   "id": "60851878-3e5b-4aa1-853e-6bda01d48f9e",
   "metadata": {},
   "outputs": [
    {
     "name": "stdout",
     "output_type": "stream",
     "text": [
      "\u001b[33mtrue\u001b[39m\n"
     ]
    }
   ],
   "source": [
    "True(true)(false)"
   ]
  },
  {
   "cell_type": "code",
   "execution_count": 3,
   "id": "d8a3792e-5935-40ff-a0fd-b389cb941df4",
   "metadata": {},
   "outputs": [
    {
     "name": "stdout",
     "output_type": "stream",
     "text": [
      "\u001b[33mfalse\u001b[39m\n"
     ]
    }
   ],
   "source": [
    "False(true)(false)"
   ]
  },
  {
   "cell_type": "code",
   "execution_count": 4,
   "id": "9fe14b2f-a3f0-4502-a1db-3e36fea4eccb",
   "metadata": {},
   "outputs": [],
   "source": [
    "const If = (x => y => z => x(y)(z))"
   ]
  },
  {
   "cell_type": "code",
   "execution_count": 5,
   "id": "61a3fe1b-3900-48c9-a966-647675d1e289",
   "metadata": {},
   "outputs": [
    {
     "name": "stdout",
     "output_type": "stream",
     "text": [
      "TRUE\n"
     ]
    }
   ],
   "source": [
    "If(True)(\"TRUE\")(\"oops..\")"
   ]
  },
  {
   "cell_type": "code",
   "execution_count": 6,
   "id": "40701c4f-e60b-45b1-8ef9-9d009d56106e",
   "metadata": {},
   "outputs": [
    {
     "name": "stdout",
     "output_type": "stream",
     "text": [
      "FALSE\n"
     ]
    }
   ],
   "source": [
    "If(False)(\"oops..\")(\"FALSE\")"
   ]
  },
  {
   "cell_type": "markdown",
   "id": "0bfaee81-de4e-4a2e-aae9-fb4ad60a0371",
   "metadata": {},
   "source": [
    "### Numbers"
   ]
  },
  {
   "cell_type": "code",
   "execution_count": 7,
   "id": "e9891572-51f7-428b-a25d-b952385066fa",
   "metadata": {},
   "outputs": [],
   "source": [
    "const calculate = f => f(x => x + 1)(0)"
   ]
  },
  {
   "cell_type": "code",
   "execution_count": 8,
   "id": "16d91c43-5ce3-4ad1-a5d3-ce7bedb840d1",
   "metadata": {},
   "outputs": [
    {
     "name": "stdout",
     "output_type": "stream",
     "text": [
      "\u001b[33m0\u001b[39m\n"
     ]
    }
   ],
   "source": [
    "const zero = f => x => x\n",
    "calculate(zero)"
   ]
  },
  {
   "cell_type": "code",
   "execution_count": 9,
   "id": "9bc75b95-4424-4ffb-9d79-d7e064d0af2a",
   "metadata": {},
   "outputs": [
    {
     "name": "stdout",
     "output_type": "stream",
     "text": [
      "\u001b[33m1\u001b[39m\n"
     ]
    }
   ],
   "source": [
    "const one = f => x => f(x)\n",
    "calculate(one)"
   ]
  },
  {
   "cell_type": "code",
   "execution_count": 10,
   "id": "ad5a7033-e8c8-4410-ba9e-6e183f18c16c",
   "metadata": {},
   "outputs": [
    {
     "name": "stdout",
     "output_type": "stream",
     "text": [
      "\u001b[33m2\u001b[39m\n"
     ]
    }
   ],
   "source": [
    "const two = f => x => f(f(x))\n",
    "calculate(two)"
   ]
  },
  {
   "cell_type": "code",
   "execution_count": 11,
   "id": "c5d85c4f-6bcd-447a-9b5c-eaad1f4ca9a4",
   "metadata": {},
   "outputs": [
    {
     "name": "stdout",
     "output_type": "stream",
     "text": [
      "\u001b[33m3\u001b[39m\n"
     ]
    }
   ],
   "source": [
    "const three = f => x => f(f(f(x)))\n",
    "calculate(three)"
   ]
  },
  {
   "cell_type": "markdown",
   "id": "3f25a415-072d-4403-891e-cf29dc36316c",
   "metadata": {},
   "source": [
    "### Combinators"
   ]
  },
  {
   "cell_type": "code",
   "execution_count": 12,
   "id": "63ee4d75-1791-4317-afd6-ef488367b432",
   "metadata": {},
   "outputs": [],
   "source": [
    "// The Ω Combinator, replicates what it's given\n",
    "const Omega = x => x(x)"
   ]
  },
  {
   "cell_type": "code",
   "execution_count": 22,
   "id": "3fb2ba73-cc7f-4778-a90b-818654b23647",
   "metadata": {},
   "outputs": [],
   "source": [
    "// The Y Combinator, recursive fixed-point function\n",
    "const Y = f => Omega(x => f(y => x(x)(y)))"
   ]
  },
  {
   "cell_type": "code",
   "execution_count": 24,
   "id": "44d3c99a",
   "metadata": {},
   "outputs": [
    {
     "name": "stdout",
     "output_type": "stream",
     "text": [
      "\u001b[33m55\u001b[39m\n"
     ]
    }
   ],
   "source": [
    "// Fibonacci Sequence\n",
    "const fib = f => n => n <= 1 ? n : f(n-1) + f(n-2)\n",
    "Y(fib)(10)"
   ]
  },
  {
   "cell_type": "code",
   "execution_count": 37,
   "id": "c6a483f3",
   "metadata": {},
   "outputs": [
    {
     "name": "stdout",
     "output_type": "stream",
     "text": [
      "\u001b[33m3628800\u001b[39m\n"
     ]
    }
   ],
   "source": [
    "// Factorial\n",
    "const fac = f => n => n <= 1 ? 1 : n * f(n-1)\n",
    "Y(fac)(10)"
   ]
  }
 ],
 "metadata": {
  "kernelspec": {
   "display_name": "JavaScript",
   "language": "javascript",
   "name": "jslab"
  },
  "language_info": {
   "file_extension": ".js",
   "mimetype": "text/javascript",
   "name": "javascript",
   "version": ""
  }
 },
 "nbformat": 4,
 "nbformat_minor": 5
}
