{
 "cells": [
  {
   "cell_type": "markdown",
   "id": "280c8aab",
   "metadata": {},
   "source": [
    "## Big-O Notation\n",
    "---\n",
    "\n",
    "**Definition:** Big-O Notation mathematically describes the complexity of an algorithm in terms of time and space.\n",
    "\n",
    "We can think about complexity in terms of *operations per input*. Given a set of inputs, how many operations do we need to perfom to derive a result?"
   ]
  },
  {
   "cell_type": "markdown",
   "id": "c469223a",
   "metadata": {},
   "source": [
    "### O(1) - Constant Time"
   ]
  },
  {
   "cell_type": "code",
   "execution_count": 1,
   "id": "521eae1b",
   "metadata": {},
   "outputs": [],
   "source": [
    "# We have 5 inputs\n",
    "nums = [1, 2, 3, 4, 5]\n",
    "\n",
    "# We retrieve the very first element at index 0.\n",
    "# Only one operation is needed to derive a result, regardless of the amount of inputs.\n",
    "# The scientific description of our algorithm is, on the order of 1 operation for all possible inputs.\n",
    "first_number = nums[0]"
   ]
  },
  {
   "cell_type": "markdown",
   "id": "980ee20e",
   "metadata": {},
   "source": [
    "### O(n) - Linear Time"
   ]
  },
  {
   "cell_type": "code",
   "execution_count": 7,
   "id": "063aa164",
   "metadata": {},
   "outputs": [
    {
     "data": {
      "text/plain": [
       "15"
      ]
     },
     "execution_count": 7,
     "metadata": {},
     "output_type": "execute_result"
    }
   ],
   "source": [
    "# We have 5 inputs\n",
    "nums = [1, 2, 3, 4, 5]\n",
    "\n",
    "# We must add each number to a running sum.\n",
    "# Must operate on each input, one operation per input.\n",
    "# Scientific description is, one the order of 1 operation per input.\n",
    "def sum_array(nums):\n",
    "    total = 0\n",
    "    for n in nums:\n",
    "        total += n\n",
    "    return total\n",
    "\n",
    "sum_array(nums)"
   ]
  },
  {
   "cell_type": "code",
   "execution_count": 13,
   "id": "2192aa8f",
   "metadata": {},
   "outputs": [
    {
     "data": {
      "text/plain": [
       "15"
      ]
     },
     "execution_count": 13,
     "metadata": {},
     "output_type": "execute_result"
    }
   ],
   "source": [
    "# Consider an input that's always a contiguous array of integers that starts at 1, eg. 1 2 3 .. n\n",
    "# Then we can use some interesting math (from Carl Friedrich Gauss), to reduce time complexity:\n",
    "#     S = n(n+1)/2\n",
    "\n",
    "# We could plug the inputs below into the equation, giving us:\n",
    "#     5(5+1)/2 = 15\n",
    "nums = [1, 2, 3, 4, 5]\n",
    "\n",
    "# Instead of iterating over the array, we get the last element at index -1\n",
    "# This reduces the complexity of this algorithm from a linear time to a constant time\n",
    "def sum_contiguous_array(nums):\n",
    "    # Get the last item\n",
    "    last_item = nums[-1]\n",
    "    \n",
    "    # Gauss's trick\n",
    "    return last_item * (last_item + 1) // 2\n",
    "\n",
    "sum_contiguous_array(nums)"
   ]
  },
  {
   "cell_type": "code",
   "execution_count": null,
   "id": "a1d94c6f",
   "metadata": {},
   "outputs": [],
   "source": []
  }
 ],
 "metadata": {
  "kernelspec": {
   "display_name": "Python 3",
   "language": "python",
   "name": "python3"
  },
  "language_info": {
   "codemirror_mode": {
    "name": "ipython",
    "version": 3
   },
   "file_extension": ".py",
   "mimetype": "text/x-python",
   "name": "python",
   "nbconvert_exporter": "python",
   "pygments_lexer": "ipython3",
   "version": "3.8.7"
  }
 },
 "nbformat": 4,
 "nbformat_minor": 5
}
