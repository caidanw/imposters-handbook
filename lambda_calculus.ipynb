{
 "cells": [
  {
   "cell_type": "markdown",
   "id": "d790c3f0-e115-4af0-ba23-024e1ecfbef8",
   "metadata": {},
   "source": [
    "Following the examples in [The Y Combinator](https://medium.com/@ayanonagon/the-y-combinator-no-not-that-one-7268d8d9c46)"
   ]
  },
  {
   "cell_type": "markdown",
   "id": "bed35369-7a62-4b15-a79a-15a5044edcd3",
   "metadata": {},
   "source": [
    "Valid λ-calculus expressions can be defined inductively as follows:\n",
    "1. A variable x is a valid λ-term.\n",
    "2. If t is a valid λ-term and x is a variable, then λx. t is a valid λ-term.\n",
    "3. If t and s are both valid λ-terms, then t s is a valid λ-term."
   ]
  },
  {
   "cell_type": "code",
   "execution_count": 10,
   "id": "7f6002e8-bb17-49a4-8160-9d1c12b0338d",
   "metadata": {},
   "outputs": [],
   "source": [
    "# Rule 1\n",
    "x: int = 1\n",
    "y: int = 3"
   ]
  },
  {
   "cell_type": "code",
   "execution_count": 19,
   "id": "674184b7-3226-45cb-99dd-e1a6e62d08ea",
   "metadata": {
    "tags": []
   },
   "outputs": [],
   "source": [
    "# Rule 2\n",
    "identity_x = lambda x: x   # λx.x\n",
    "identity_y = lambda y: y   # λy.y\n",
    "constant_y = lambda x: y   # λx.y\n",
    "constant_x = lambda y: x   # λy.x"
   ]
  },
  {
   "cell_type": "code",
   "execution_count": 21,
   "id": "29aa62be-cb98-478e-b044-433787aff589",
   "metadata": {
    "tags": []
   },
   "outputs": [
    {
     "data": {
      "text/plain": [
       "3"
      ]
     },
     "execution_count": 21,
     "metadata": {},
     "output_type": "execute_result"
    }
   ],
   "source": [
    "# Rule 3\n",
    "identity_x(5)              # -> 10\n",
    "constant_x(5)              # -> 1\n",
    "constant_y(identity_x(5))  # -> 3"
   ]
  },
  {
   "cell_type": "code",
   "execution_count": 23,
   "id": "3ef590fe-1432-444e-ae01-7db0f645a1db",
   "metadata": {},
   "outputs": [],
   "source": [
    "# Y Combinator\n",
    "recurse = (lambda f: lambda x: f(x, x))(lambda x: f(x, x)) "
   ]
  },
  {
   "cell_type": "code",
   "execution_count": 31,
   "id": "32222c92-215a-40b7-934a-2495a96d5dda",
   "metadata": {},
   "outputs": [
    {
     "data": {
      "text/plain": [
       "120"
      ]
     },
     "execution_count": 31,
     "metadata": {},
     "output_type": "execute_result"
    }
   ],
   "source": [
    "fac = lambda n, f: 1 if n == 0 else n * f(n - 1, f)\n",
    "fac(5, fac)"
   ]
  }
 ],
 "metadata": {
  "kernelspec": {
   "display_name": "Python 3",
   "language": "python",
   "name": "python3"
  },
  "language_info": {
   "codemirror_mode": {
    "name": "ipython",
    "version": 3
   },
   "file_extension": ".py",
   "mimetype": "text/x-python",
   "name": "python",
   "nbconvert_exporter": "python",
   "pygments_lexer": "ipython3",
   "version": "3.8.7"
  }
 },
 "nbformat": 4,
 "nbformat_minor": 5
}
